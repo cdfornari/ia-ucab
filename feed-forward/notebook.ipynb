{
 "cells": [
  {
   "cell_type": "markdown",
   "metadata": {},
   "source": [
    "# Red Neuronal para Clasificación no Lineal\n"
   ]
  },
  {
   "cell_type": "code",
   "execution_count": 91,
   "metadata": {},
   "outputs": [],
   "source": [
    "from __future__ import print_function\n",
    "import numpy as np\n",
    "import matplotlib.pyplot as plt\n",
    "\n",
    "%matplotlib inline"
   ]
  },
  {
   "cell_type": "markdown",
   "metadata": {},
   "source": [
    "Cree los datos de entrada y salida para una compuerta XOR:\n"
   ]
  },
  {
   "cell_type": "code",
   "execution_count": 92,
   "metadata": {},
   "outputs": [],
   "source": [
    "x = np.array([[0, 0], [0, 1], [1, 0], [1, 1]])\n",
    "y = np.array([[0], [1], [1], [0]])"
   ]
  },
  {
   "cell_type": "markdown",
   "metadata": {},
   "source": [
    "Para una red neuronal con dos neuronas en la capa de entrada, tres en la capa escondidad y una en la salida, inicialize los pesos y sesgos:\n"
   ]
  },
  {
   "cell_type": "code",
   "execution_count": 93,
   "metadata": {},
   "outputs": [],
   "source": [
    "w1 = 2 * np.random.random(size=(2, 3)) - 1\n",
    "w2 = 2 * np.random.random(size=(3, 1)) - 1\n",
    "b1 = 2 * np.random.random(size=(1, 3)) - 1\n",
    "b2 = 2 * np.random.random(size=(1, 1)) - 1\n",
    "eta = 1"
   ]
  },
  {
   "cell_type": "markdown",
   "metadata": {},
   "source": [
    "Defina la función de activación y su derivada:\n"
   ]
  },
  {
   "cell_type": "code",
   "execution_count": 94,
   "metadata": {},
   "outputs": [],
   "source": [
    "def sigmoid(x):\n",
    "    # Definicion de la función sigmoide\n",
    "    return 1 / (1 + np.exp(-x))\n",
    "\n",
    "def dsigmoid(y):\n",
    "    # Definicion de la derivada de la función sigmoide\n",
    "    return y * (1 - y)"
   ]
  },
  {
   "cell_type": "markdown",
   "metadata": {},
   "source": [
    "## Forward pass\n"
   ]
  },
  {
   "cell_type": "code",
   "execution_count": 95,
   "metadata": {},
   "outputs": [],
   "source": [
    "def forward_prop(w1, b1, w2, b2, x):\n",
    "    Neth = np.dot(x, w1) + b1  # Note que es un producto de una matriz por un vector\n",
    "    Outh = sigmoid(Neth)\n",
    "    NetO = np.dot(Outh, w2) + b2\n",
    "    OutO = sigmoid(NetO)\n",
    "    return Neth, Outh, NetO, OutO"
   ]
  },
  {
   "cell_type": "markdown",
   "metadata": {},
   "source": [
    "## Backward pass\n"
   ]
  },
  {
   "cell_type": "markdown",
   "metadata": {},
   "source": [
    "Implemente las derivadas del error respecto a los parámetros w y b:\n"
   ]
  },
  {
   "cell_type": "code",
   "execution_count": 96,
   "metadata": {},
   "outputs": [],
   "source": [
    "def backward_prop(Outh, OutO, w2, x, y):\n",
    "    delta2 = (OutO - y)*dsigmoid(OutO)\n",
    "    delta1 = delta2 * w2.T * dsigmoid(Outh)\n",
    "    dw2 = np.dot(Outh.T,delta2)\n",
    "    dw1 = np.dot(x.T,delta1)\n",
    "    db1 = np.sum(delta1, keepdims=True)\n",
    "    db2 = np.sum(delta2, keepdims=True)\n",
    "    return dw1, db1, dw2, db2"
   ]
  },
  {
   "cell_type": "markdown",
   "metadata": {},
   "source": [
    "Implemente la correción de los parámetros:\n"
   ]
  },
  {
   "cell_type": "code",
   "execution_count": 97,
   "metadata": {},
   "outputs": [],
   "source": [
    "def update_params(w1, b1, w2, b2, dw1, db1, dw2, db2, eta):\n",
    "    w1 -= eta * dw1\n",
    "    b1 -= eta * db1\n",
    "    w2 -= eta * dw2\n",
    "    b2 -= eta * db2\n",
    "    return w1, b1, w2, b2"
   ]
  },
  {
   "cell_type": "markdown",
   "metadata": {},
   "source": [
    "## Entrenamiento de la red neuronal\n"
   ]
  },
  {
   "cell_type": "markdown",
   "metadata": {},
   "source": [
    "Use el esquema de \"Retropropagación\" para entrenar la red.\n"
   ]
  },
  {
   "cell_type": "code",
   "execution_count": 98,
   "metadata": {},
   "outputs": [],
   "source": [
    "# Implementación de la retropropagación\n",
    "errors = []\n",
    "for i in range(10000):\n",
    "    Neth, Outh, NetO, OutO = forward_prop(w1, b1, w2, b2, x)\n",
    "    dw1, db1, dw2, db2 = backward_prop(Outh, OutO, w2, x, y)\n",
    "    w1, b1, w2, b2 = update_params(w1, b1, w2, b2, dw1, db1, dw2, db2, eta)\n",
    "    errors.append([np.sum((y-OutO)**2), i])"
   ]
  },
  {
   "cell_type": "markdown",
   "metadata": {},
   "source": [
    "Valide del entrenamiento. Con una gráfica del error en funcion de las épocas.\n"
   ]
  },
  {
   "cell_type": "code",
   "execution_count": 99,
   "metadata": {},
   "outputs": [
    {
     "data": {
      "image/png": "[encoded data removed]",
      "text/plain": [
       "<Figure size 640x480 with 1 Axes>"
      ]
     },
     "metadata": {},
     "output_type": "display_data"
    }
   ],
   "source": [
    "# Gráfica Error vs. Épocas\n",
    "plt.title(\"Error vs Epocas\")\n",
    "plt.xlabel(\"Epoca\")\n",
    "plt.ylabel(\"Error\")\n",
    "plt.plot(np.array(errors)[:, 1], np.array(errors)[:, 0])\n",
    "plt.grid()\n",
    "plt.show()"
   ]
  }
 ],
 "metadata": {
  "kernelspec": {
   "display_name": "Python 3",
   "language": "python",
   "name": "python3"
  },
  "language_info": {
   "codemirror_mode": {
    "name": "ipython",
    "version": 3
   },
   "file_extension": ".py",
   "mimetype": "text/x-python",
   "name": "python",
   "nbconvert_exporter": "python",
   "pygments_lexer": "ipython3",
   "version": "3.10.2"
  }
 },
 "nbformat": 4,
 "nbformat_minor": 4
}

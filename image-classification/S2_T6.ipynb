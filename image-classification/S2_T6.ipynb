{
 "cells": [
  {
   "cell_type": "markdown",
   "metadata": {},
   "source": [
    "# Visión Artificial con Redes Convolucionales"
   ]
  },
  {
   "cell_type": "markdown",
   "metadata": {},
   "source": [
    "## Sección 2 - Proyecto (6) - Equipo #4 (T6)\n",
    "- Alejandro Molina\n",
    "- Sandro Portanova\n",
    "- Carlos Fornari"
   ]
  },
  {
   "cell_type": "markdown",
   "metadata": {},
   "source": [
    "La red implementada en este proyecto es para clasificar imagenes del conjunto de datos \"kmnist\""
   ]
  },
  {
   "cell_type": "code",
   "execution_count": 17,
   "metadata": {},
   "outputs": [],
   "source": [
    "import requests\n",
    "from keras import layers, models, losses\n",
    "import numpy as np\n",
    "from tqdm import tqdm\n",
    "from keras_tuner import RandomSearch, HyperModel\n",
    "from matplotlib import pyplot as plt\n",
    "from shutil import rmtree"
   ]
  },
  {
   "cell_type": "markdown",
   "metadata": {},
   "source": [
    "# Cargar el dataset KMINST"
   ]
  },
  {
   "cell_type": "code",
   "execution_count": 4,
   "metadata": {},
   "outputs": [
    {
     "name": "stdout",
     "output_type": "stream",
     "text": [
      "Descargando kmnist-train-imgs.npz - 18.0 MB\n"
     ]
    },
    {
     "name": "stderr",
     "output_type": "stream",
     "text": [
      "100%|██████████| 17954/17954 [00:12<00:00, 1417.89KB/s]\n"
     ]
    },
    {
     "name": "stdout",
     "output_type": "stream",
     "text": [
      "Descargando kmnist-train-labels.npz - 0.0 MB\n"
     ]
    },
    {
     "name": "stderr",
     "output_type": "stream",
     "text": [
      "100%|██████████| 30/30 [00:00<00:00, 29987.87KB/s]\n"
     ]
    },
    {
     "name": "stdout",
     "output_type": "stream",
     "text": [
      "Descargando kmnist-test-imgs.npz - 3.0 MB\n"
     ]
    },
    {
     "name": "stderr",
     "output_type": "stream",
     "text": [
      "100%|██████████| 3008/3008 [00:00<00:00, 46994.48KB/s]\n"
     ]
    },
    {
     "name": "stdout",
     "output_type": "stream",
     "text": [
      "Descargando kmnist-test-labels.npz - 0.0 MB\n"
     ]
    },
    {
     "name": "stderr",
     "output_type": "stream",
     "text": [
      "100%|██████████| 6/6 [00:00<00:00, 5997.57KB/s]"
     ]
    },
    {
     "name": "stdout",
     "output_type": "stream",
     "text": [
      "Descarga terminada!\n"
     ]
    },
    {
     "name": "stderr",
     "output_type": "stream",
     "text": [
      "\n"
     ]
    }
   ],
   "source": [
    "# Download a list of files\n",
    "def download_list(url_list):\n",
    "    for url in url_list:\n",
    "        path = url.split(\"/\")[-1]\n",
    "        r = requests.get(url, stream=True)\n",
    "        with open(path, \"wb\") as f:\n",
    "            total_length = int(r.headers.get(\"content-length\"))\n",
    "            print(\"Descargando {} - {:.1f} MB\".format(path, (total_length / 1024000)))\n",
    "\n",
    "            for chunk in tqdm(\n",
    "                r.iter_content(chunk_size=1024),\n",
    "                total=int(total_length / 1024) + 1,\n",
    "                unit=\"KB\",\n",
    "            ):\n",
    "                if chunk:\n",
    "                    f.write(chunk)\n",
    "    print(\"Descarga terminada!\")\n",
    "\n",
    "def load(f):\n",
    "    return np.load(f)['arr_0']\n",
    "\n",
    "#si no estan descargados los descargo\n",
    "try:\n",
    "    x_train = load('kmnist-train-imgs.npz')\n",
    "    x_test = load('kmnist-test-imgs.npz')\n",
    "    y_train = load('kmnist-train-labels.npz')\n",
    "    y_test = load('kmnist-test-labels.npz')\n",
    "except:\n",
    "    download_list(\n",
    "        [\n",
    "            \"http://codh.rois.ac.jp/kmnist/dataset/kmnist/kmnist-train-imgs.npz\",\n",
    "            \"http://codh.rois.ac.jp/kmnist/dataset/kmnist/kmnist-train-labels.npz\",\n",
    "            \"http://codh.rois.ac.jp/kmnist/dataset/kmnist/kmnist-test-imgs.npz\",\n",
    "            \"http://codh.rois.ac.jp/kmnist/dataset/kmnist/kmnist-test-labels.npz\",\n",
    "        ]\n",
    "    )   \n",
    "    x_train = load('kmnist-train-imgs.npz')\n",
    "    x_test = load('kmnist-test-imgs.npz')\n",
    "    y_train = load('kmnist-train-labels.npz')\n",
    "    y_test = load('kmnist-test-labels.npz')"
   ]
  },
  {
   "cell_type": "markdown",
   "metadata": {},
   "source": [
    "# Mostrar como ejemplo las 10 primeras imágenes de entrenamiento."
   ]
  },
  {
   "cell_type": "code",
   "execution_count": 12,
   "metadata": {},
   "outputs": [
    {
     "data": {
      "image/png": "[encoded data removed]",
      "text/plain": [
       "<Figure size 1000x1000 with 10 Axes>"
      ]
     },
     "metadata": {},
     "output_type": "display_data"
    }
   ],
   "source": [
    "plt.figure(figsize=(10,10))\n",
    "for i in range(10):  \n",
    "    plt.subplot(5,5,i+1)\n",
    "    plt.xticks([])\n",
    "    plt.yticks([])\n",
    "    plt.grid(False)\n",
    "    plt.imshow(x_train[i], cmap=plt.get_cmap('gray'))\n",
    "    plt.title(y_train[i])\n",
    "plt.show() "
   ]
  },
  {
   "cell_type": "markdown",
   "metadata": {},
   "source": [
    "# Preprocesamiento de los datos"
   ]
  },
  {
   "cell_type": "code",
   "execution_count": 7,
   "metadata": {},
   "outputs": [
    {
     "name": "stdout",
     "output_type": "stream",
     "text": [
      "60000 train samples, 10000 test samples\n"
     ]
    }
   ],
   "source": [
    "# Los datos vienen en formato (28,28) pero keras necesita (28,28,1)\n",
    "x_train = x_train.reshape(x_train.shape[0], 28, 28, 1)\n",
    "x_test = x_test.reshape(x_test.shape[0], 28, 28, 1)\n",
    "input_shape = (28, 28, 1)\n",
    "# Se normaliza el valor de los pixeles para que estén entre 0 y 1\n",
    "x_train = x_train.astype('float32')\n",
    "x_test = x_test.astype('float32')\n",
    "x_train /= 255\n",
    "x_test /= 255\n",
    "\n",
    "print('{} train samples, {} test samples'.format(len(x_train), len(x_test)))"
   ]
  },
  {
   "cell_type": "markdown",
   "metadata": {},
   "source": [
    "# Definición de la red neuronal\n",
    "Luego de estudiar 2 de las arquitecturas de redes convolucionales más populares, AlexNet y LeNet, decidimos compararlas para adquirir más conocimiento antes de diseñar una red propia, ya que estas son arquitecturas aceptadas por la comunidad científica."
   ]
  },
  {
   "cell_type": "markdown",
   "metadata": {},
   "source": [
    "## AlexNet\n",
    "Debido a que la arquitectura de AlexNet está pensada para imágenes de 227x227 con 3 canales de colores, y el dataset KMNIST es de 28x28 con solo 1 canal, decidimos adaptarla a nuestro dataset reduciendo el número de filtros y neuronas de procesamiento, pero manteniendo el esquema principal.\n",
    "\n",
    "### Referencias:\n",
    "https://www.analyticsvidhya.com/blog/2021/03/introduction-to-the-architecture-of-alexnet/?utm_source=reading_list&utm_medium=https://www.analyticsvidhya.com/blog/2021/03/the-architecture-of-lenet-5/"
   ]
  },
  {
   "cell_type": "code",
   "execution_count": 410,
   "metadata": {},
   "outputs": [
    {
     "name": "stdout",
     "output_type": "stream",
     "text": [
      "Model: \"sequential_102\"\n",
      "_________________________________________________________________\n",
      " Layer (type)                Output Shape              Param #   \n",
      "=================================================================\n",
      " conv2d_361 (Conv2D)         (None, 24, 24, 48)        1248      \n",
      "                                                                 \n",
      " max_pooling2d_221 (MaxPool  (None, 12, 12, 48)        0         \n",
      " ing2D)                                                          \n",
      "                                                                 \n",
      " conv2d_362 (Conv2D)         (None, 12, 12, 128)       98432     \n",
      "                                                                 \n",
      " max_pooling2d_222 (MaxPool  (None, 6, 6, 128)         0         \n",
      " ing2D)                                                          \n",
      "                                                                 \n",
      " conv2d_363 (Conv2D)         (None, 6, 6, 192)         221376    \n",
      "                                                                 \n",
      " conv2d_364 (Conv2D)         (None, 6, 6, 192)         331968    \n",
      "                                                                 \n",
      " conv2d_365 (Conv2D)         (None, 6, 6, 128)         221312    \n",
      "                                                                 \n",
      " max_pooling2d_223 (MaxPool  (None, 3, 3, 128)         0         \n",
      " ing2D)                                                          \n",
      "                                                                 \n",
      " flatten_95 (Flatten)        (None, 1152)              0         \n",
      "                                                                 \n",
      " dropout_42 (Dropout)        (None, 1152)              0         \n",
      "                                                                 \n",
      " dense_232 (Dense)           (None, 512)               590336    \n",
      "                                                                 \n",
      " dropout_43 (Dropout)        (None, 512)               0         \n",
      "                                                                 \n",
      " dense_233 (Dense)           (None, 512)               262656    \n",
      "                                                                 \n",
      " dense_234 (Dense)           (None, 10)                5130      \n",
      "                                                                 \n",
      "=================================================================\n",
      "Total params: 1732458 (6.61 MB)\n",
      "Trainable params: 1732458 (6.61 MB)\n",
      "Non-trainable params: 0 (0.00 Byte)\n",
      "_________________________________________________________________\n"
     ]
    }
   ],
   "source": [
    "alex_net = models.Sequential()\n",
    "alex_net.add(layers.Conv2D(48, (5, 5), activation=\"relu\", input_shape=input_shape))\n",
    "alex_net.add(layers.MaxPooling2D(pool_size=(2, 2), strides=(2, 2)))\n",
    "alex_net.add(layers.Conv2D(128, (4, 4), padding=\"same\", activation=\"relu\"))\n",
    "alex_net.add(layers.MaxPooling2D(pool_size=(2, 2), strides=(2, 2)))\n",
    "alex_net.add(layers.Conv2D(192, (3, 3), padding=\"same\", activation=\"relu\"))\n",
    "alex_net.add(layers.Conv2D(192, (3, 3), padding=\"same\", activation=\"relu\"))\n",
    "alex_net.add(layers.Conv2D(128, (3, 3), padding=\"same\", activation=\"relu\"))\n",
    "alex_net.add(layers.MaxPooling2D(pool_size=(2, 2), strides=(2, 2)))\n",
    "alex_net.add(layers.Flatten())\n",
    "alex_net.add(layers.Dropout(0.5))\n",
    "alex_net.add(layers.Dense(512, activation=\"relu\"))\n",
    "alex_net.add(layers.Dropout(0.5))\n",
    "alex_net.add(layers.Dense(512, activation=\"relu\"))\n",
    "alex_net.add(layers.Dense(10, activation=\"softmax\"))\n",
    "alex_net.summary()"
   ]
  },
  {
   "cell_type": "markdown",
   "metadata": {},
   "source": [
    "## LeNet\n",
    "Por otro lado, la arquitectura de LeNet 5 está pensada para imágenes de 32x32 con 1 canal de color, , el cual es simular al de 28x28 con 1 canal de color de las imagenes de KMNIST, por lo que el único cambio que se realizo fue el de utilizar un kernel de 3x3 en la capa convolucional de 120 filtros en vez de 5x5, lo cual generaba un error por la dimensión de las imágenes de entrada.\n",
    "\n",
    "### Referencias\n",
    "https://www.analyticsvidhya.com/blog/2021/03/the-architecture-of-lenet-5/?utm_source=reading_list&utm_medium=https://www.analyticsvidhya.com/blog/2021/03/the-architecture-of-lenet-5/"
   ]
  },
  {
   "cell_type": "code",
   "execution_count": 47,
   "metadata": {},
   "outputs": [
    {
     "name": "stdout",
     "output_type": "stream",
     "text": [
      "Model: \"sequential_16\"\n",
      "_________________________________________________________________\n",
      " Layer (type)                Output Shape              Param #   \n",
      "=================================================================\n",
      " conv2d_63 (Conv2D)          (None, 24, 24, 6)         156       \n",
      "                                                                 \n",
      " average_pooling2d_12 (Aver  (None, 12, 12, 6)         0         \n",
      " agePooling2D)                                                   \n",
      "                                                                 \n",
      " conv2d_64 (Conv2D)          (None, 8, 8, 16)          2416      \n",
      "                                                                 \n",
      " average_pooling2d_13 (Aver  (None, 4, 4, 16)          0         \n",
      " agePooling2D)                                                   \n",
      "                                                                 \n",
      " conv2d_65 (Conv2D)          (None, 2, 2, 120)         17400     \n",
      "                                                                 \n",
      " flatten_15 (Flatten)        (None, 480)               0         \n",
      "                                                                 \n",
      " dense_33 (Dense)            (None, 84)                40404     \n",
      "                                                                 \n",
      " dense_34 (Dense)            (None, 10)                850       \n",
      "                                                                 \n",
      "=================================================================\n",
      "Total params: 61226 (239.16 KB)\n",
      "Trainable params: 61226 (239.16 KB)\n",
      "Non-trainable params: 0 (0.00 Byte)\n",
      "_________________________________________________________________\n"
     ]
    }
   ],
   "source": [
    "le_net = models.Sequential()\n",
    "le_net.add(layers.Conv2D(6, (5, 5), activation=\"tanh\", input_shape=input_shape))\n",
    "le_net.add(layers.AveragePooling2D((2, 2), strides=2))\n",
    "le_net.add(layers.Conv2D(16, (5, 5), activation=\"tanh\"))\n",
    "le_net.add(layers.AveragePooling2D((2, 2), strides=2))\n",
    "le_net.add(layers.Conv2D(120, (3, 3), activation=\"tanh\"))\n",
    "le_net.add(layers.Flatten())\n",
    "le_net.add(layers.Dense(84, activation=\"tanh\"))\n",
    "le_net.add(layers.Dense(10, activation=\"softmax\"))\n",
    "le_net.summary()"
   ]
  },
  {
   "cell_type": "markdown",
   "metadata": {},
   "source": [
    "# Entrenamiento de la red neuronal"
   ]
  },
  {
   "cell_type": "code",
   "execution_count": 412,
   "metadata": {},
   "outputs": [
    {
     "name": "stdout",
     "output_type": "stream",
     "text": [
      "Epoch 1/5\n",
      "1875/1875 [==============================] - 54s 29ms/step - loss: 0.3278 - accuracy: 0.8951 - val_loss: 0.2460 - val_accuracy: 0.9279\n",
      "Epoch 2/5\n",
      "1875/1875 [==============================] - 200s 107ms/step - loss: 0.0984 - accuracy: 0.9728 - val_loss: 0.1906 - val_accuracy: 0.9511\n",
      "Epoch 3/5\n",
      "1875/1875 [==============================] - 670s 357ms/step - loss: 0.0789 - accuracy: 0.9783 - val_loss: 0.2380 - val_accuracy: 0.9387\n",
      "Epoch 4/5\n",
      "1875/1875 [==============================] - 55s 29ms/step - loss: 0.0633 - accuracy: 0.9830 - val_loss: 0.1864 - val_accuracy: 0.9536\n",
      "Epoch 5/5\n",
      "1875/1875 [==============================] - 53s 28ms/step - loss: 0.0562 - accuracy: 0.9853 - val_loss: 0.2080 - val_accuracy: 0.9505\n"
     ]
    }
   ],
   "source": [
    "alex_net.compile(\n",
    "    optimizer=\"adam\",\n",
    "    loss=losses.SparseCategoricalCrossentropy(),\n",
    "    metrics=[\"accuracy\"],\n",
    ")\n",
    "\n",
    "history_alex = alex_net.fit(x_train, y_train, epochs=5, validation_data=(x_test, y_test))"
   ]
  },
  {
   "cell_type": "code",
   "execution_count": 48,
   "metadata": {},
   "outputs": [
    {
     "name": "stdout",
     "output_type": "stream",
     "text": [
      "Epoch 1/5\n",
      "1875/1875 [==============================] - 9s 5ms/step - loss: 0.4567 - accuracy: 0.8630 - val_loss: 0.5846 - val_accuracy: 0.8198\n",
      "Epoch 2/5\n",
      "1875/1875 [==============================] - 8s 5ms/step - loss: 0.2037 - accuracy: 0.9390 - val_loss: 0.4367 - val_accuracy: 0.8671\n",
      "Epoch 3/5\n",
      "1875/1875 [==============================] - 9s 5ms/step - loss: 0.1487 - accuracy: 0.9560 - val_loss: 0.3648 - val_accuracy: 0.8934\n",
      "Epoch 4/5\n",
      "1875/1875 [==============================] - 9s 5ms/step - loss: 0.1138 - accuracy: 0.9654 - val_loss: 0.3388 - val_accuracy: 0.9035\n",
      "Epoch 5/5\n",
      "1875/1875 [==============================] - 8s 4ms/step - loss: 0.0974 - accuracy: 0.9708 - val_loss: 0.3446 - val_accuracy: 0.9004\n"
     ]
    }
   ],
   "source": [
    "le_net.compile(\n",
    "    optimizer=\"adam\",\n",
    "    loss=losses.SparseCategoricalCrossentropy(),\n",
    "    metrics=[\"accuracy\"],\n",
    ")\n",
    "\n",
    "history_lenet = le_net.fit(x_train, y_train, epochs=5, validation_data=(x_test, y_test))"
   ]
  },
  {
   "cell_type": "code",
   "execution_count": 414,
   "metadata": {},
   "outputs": [
    {
     "name": "stdout",
     "output_type": "stream",
     "text": [
      "313/313 - 3s - loss: 0.2080 - accuracy: 0.9505 - 3s/epoch - 8ms/step\n"
     ]
    },
    {
     "data": {
      "image/png": "[encoded data removed]",
      "text/plain": [
       "<Figure size 640x480 with 1 Axes>"
      ]
     },
     "metadata": {},
     "output_type": "display_data"
    },
    {
     "name": "stdout",
     "output_type": "stream",
     "text": [
      "313/313 - 0s - loss: 0.3326 - accuracy: 0.9089 - 455ms/epoch - 1ms/step\n"
     ]
    },
    {
     "data": {
      "image/png": "[encoded data removed]",
      "text/plain": [
       "<Figure size 640x480 with 1 Axes>"
      ]
     },
     "metadata": {},
     "output_type": "display_data"
    }
   ],
   "source": [
    "test_loss, test_acc = alex_net.evaluate(x_test, y_test, verbose=2)\n",
    "plt.plot(history_alex.history[\"accuracy\"], label=\"accuracy\")\n",
    "plt.plot(history_alex.history[\"val_accuracy\"], label=\"val_accuracy\")\n",
    "plt.xlabel(\"Epoch\")\n",
    "plt.ylabel(\"Accuracy\")\n",
    "plt.ylim([0.5, 1])\n",
    "plt.legend(loc=\"lower right\")\n",
    "plt.title(\n",
    "    \"AlexNet Error: {} Precisión: {}\".format(round(test_loss, 3), round(test_acc, 3))\n",
    ")\n",
    "plt.show()\n",
    "\n",
    "test_loss, test_acc = le_net.evaluate(x_test, y_test, verbose=2)\n",
    "plt.plot(history_lenet.history[\"accuracy\"], label=\"accuracy\")\n",
    "plt.plot(history_lenet.history[\"val_accuracy\"], label=\"val_accuracy\")\n",
    "plt.xlabel(\"Epoch\")\n",
    "plt.ylabel(\"Accuracy\")\n",
    "plt.ylim([0.5, 1])\n",
    "plt.legend(loc=\"lower right\")\n",
    "plt.title(\n",
    "    \"LeNet Error: {} Precisión: {}\".format(round(test_loss, 3), round(test_acc, 3))\n",
    ")\n",
    "plt.show()"
   ]
  },
  {
   "cell_type": "markdown",
   "metadata": {},
   "source": [
    "# Conclusiones de la comparación:\n",
    "\n",
    "1. La adaptación de AlexNet alcanza una precisión mayor debido a que es más profunda que LeNet, por lo que puede extraer más características de las imágenes.\n",
    "\n",
    "2. La diferencia de precisión entre ambas arquitecturas es muy pequeña, debido a que el dataset KMNIST es una prueba sencilla, en un dataset más grande y con imágenes más complejas y con más clasificaciones posibles, se debería apreciar una diferencia mucho mayor.\n",
    "\n",
    "3. El tiempo de entrenamiento de AlexNet es aproximadamente 5 veces el de LeNet para este dataset, lo cual no concuerda con la diferencia en la precisión, por lo que para conjuntos de imágenes pequeñas y sencillas, es más recomendable LeNet."
   ]
  },
  {
   "cell_type": "markdown",
   "metadata": {},
   "source": [
    "# Definición de la red neuronal propia\n",
    "En base a lo observado en las arquitecturas anteriores, se decidió diseñar una red propia.\n",
    "Se decidió utilizar la técnica de Hyperparameter Tuning para encontrar los mejores parámetros para la red neuronal en cuanto a número de filtros, tamaño de kernel y padding de cada capa convolucional.\n",
    "Luego de varias pruebas, se optó por la siguiente arquitectura, la cual dio los mejores resultados:\n",
    "1. Una capa convolucional para extraer características generales de las imágenes.\n",
    "2. Un max pooling para reducir la dimensionalidad de las imágenes preservando las características específicas.\n",
    "3. 2 capas convolucionales para extraer características más específicas de las imágenes.\n",
    "4. Un average pooling para reducir la dimensionalidad de las imágenes preservando las características generales.\n",
    "5. Aplanamiento y capas densas de salida para clasificar las imágenes.\n",
    "\n",
    "Para el entrenamiento de la red neuronal recurrente utilizaremos como loss la función 'sparse_categorical_crossentropy' porque al ser un problema de clasificación multiclase esta nos permite calcular la pérdida entre la etiqueta y la predicción. \n",
    "Además, utilizamos el optimizador 'adam' porque es un optimizador que se usa comunmente en las CNN ya que usa una tasa de aprendizaje adaptativa por lo que maneja bien la variabilidad de los mapas de características y se ha demostrado que evita el desvanecimiento de gradiente y el overfitting, gracias a que propaga los gradientes en múltiples capas e implementa un efecto de regularizacion L2."
   ]
  },
  {
   "cell_type": "code",
   "execution_count": 13,
   "metadata": {},
   "outputs": [],
   "source": [
    "class Model(HyperModel):\n",
    "    def build(self, hp):\n",
    "        model = models.Sequential()\n",
    "        model.add(\n",
    "            layers.Conv2D(\n",
    "                hp.Int(\"filters\", 32, 64, step=16),\n",
    "                hp.Int(\"kernel\", 3, 7, step=2),\n",
    "                activation=\"relu\",\n",
    "                padding=hp.Choice(\"padding\", [\"same\", \"valid\"]),\n",
    "                input_shape=input_shape,\n",
    "            )\n",
    "        )\n",
    "        model.add(layers.MaxPooling2D((2, 2), strides=(2, 2)))\n",
    "        model.add(\n",
    "            layers.Conv2D(\n",
    "                hp.Int(\"filters_2\", 48, 96, step=16),\n",
    "                hp.Choice(\"kernel_2\", [3, 5]),\n",
    "                activation=\"relu\",\n",
    "                padding=hp.Choice(\"padding\", [\"same\", \"valid\"]),\n",
    "            )\n",
    "        )\n",
    "        model.add(\n",
    "            layers.Conv2D(\n",
    "                hp.Int(\"filters_3\", 48, 96, step=16),\n",
    "                hp.Choice(\"kernel_3\", [3, 5]),\n",
    "                activation=\"relu\",\n",
    "                padding=hp.Choice(\"padding\", [\"same\", \"valid\"]),\n",
    "            ),\n",
    "        ),\n",
    "        model.add(layers.AveragePooling2D((2, 2), strides=(2, 2)))\n",
    "        model.add(layers.Flatten())\n",
    "        model.add(layers.Dropout(hp.Choice(\"dropout\", [0.2, 0.3, 0.4, 0.5])))\n",
    "        model.add(\n",
    "            layers.Dense(\n",
    "                hp.Choice(\"dense\", [64, 96, 128]),\n",
    "                activation=\"relu\",\n",
    "            )\n",
    "        )\n",
    "        model.add(layers.Dense(10, activation=\"softmax\"))\n",
    "        model.compile(\n",
    "            optimizer=\"adam\",\n",
    "            loss=losses.SparseCategoricalCrossentropy(),\n",
    "            metrics=[\"accuracy\"],\n",
    "        )\n",
    "        return model\n",
    "\n",
    "    def fit(self, hp, model, *args, **kwargs):\n",
    "        return model.fit(\n",
    "            *args,\n",
    "            shuffle=hp.Boolean(\"shuffle\"),\n",
    "            **kwargs,\n",
    "        )"
   ]
  },
  {
   "cell_type": "markdown",
   "metadata": {},
   "source": [
    "# Entrenamiento de la red neuronal propia"
   ]
  },
  {
   "cell_type": "code",
   "execution_count": 20,
   "metadata": {},
   "outputs": [
    {
     "name": "stdout",
     "output_type": "stream",
     "text": [
      "Trial 5 Complete [00h 06m 17s]\n",
      "val_accuracy: 0.9660999774932861\n",
      "\n",
      "Best val_accuracy So Far: 0.9660999774932861\n",
      "Total elapsed time: 00h 16m 38s\n",
      "Model: \"sequential\"\n",
      "_________________________________________________________________\n",
      " Layer (type)                Output Shape              Param #   \n",
      "=================================================================\n",
      " conv2d (Conv2D)             (None, 28, 28, 48)        1248      \n",
      "                                                                 \n",
      " max_pooling2d (MaxPooling2  (None, 14, 14, 48)        0         \n",
      " D)                                                              \n",
      "                                                                 \n",
      " conv2d_1 (Conv2D)           (None, 14, 14, 64)        76864     \n",
      "                                                                 \n",
      " conv2d_2 (Conv2D)           (None, 14, 14, 96)        55392     \n",
      "                                                                 \n",
      " average_pooling2d (Average  (None, 7, 7, 96)          0         \n",
      " Pooling2D)                                                      \n",
      "                                                                 \n",
      " flatten (Flatten)           (None, 4704)              0         \n",
      "                                                                 \n",
      " dropout (Dropout)           (None, 4704)              0         \n",
      "                                                                 \n",
      " dense (Dense)               (None, 128)               602240    \n",
      "                                                                 \n",
      " dense_1 (Dense)             (None, 10)                1290      \n",
      "                                                                 \n",
      "=================================================================\n",
      "Total params: 737034 (2.81 MB)\n",
      "Trainable params: 737034 (2.81 MB)\n",
      "Non-trainable params: 0 (0.00 Byte)\n",
      "_________________________________________________________________\n",
      "Results summary\n",
      "Results in .\\untitled_project\n",
      "Showing 10 best trials\n",
      "Objective(name=\"val_accuracy\", direction=\"max\")\n",
      "\n",
      "Trial 4 summary\n",
      "Hyperparameters:\n",
      "filters: 48\n",
      "kernel: 5\n",
      "padding: same\n",
      "filters_2: 64\n",
      "kernel_2: 5\n",
      "filters_3: 96\n",
      "kernel_3: 3\n",
      "dropout: 0.4\n",
      "dense: 128\n",
      "shuffle: False\n",
      "Score: 0.9660999774932861\n",
      "\n",
      "Trial 3 summary\n",
      "Hyperparameters:\n",
      "filters: 64\n",
      "kernel: 3\n",
      "padding: same\n",
      "filters_2: 64\n",
      "kernel_2: 5\n",
      "filters_3: 48\n",
      "kernel_3: 3\n",
      "dropout: 0.4\n",
      "dense: 96\n",
      "shuffle: True\n",
      "Score: 0.9639999866485596\n",
      "\n",
      "Trial 0 summary\n",
      "Hyperparameters:\n",
      "filters: 32\n",
      "kernel: 5\n",
      "padding: valid\n",
      "filters_2: 80\n",
      "kernel_2: 5\n",
      "filters_3: 64\n",
      "kernel_3: 5\n",
      "dropout: 0.3\n",
      "dense: 128\n",
      "shuffle: False\n",
      "Score: 0.9592000246047974\n",
      "\n",
      "Trial 2 summary\n",
      "Hyperparameters:\n",
      "filters: 64\n",
      "kernel: 7\n",
      "padding: valid\n",
      "filters_2: 64\n",
      "kernel_2: 5\n",
      "filters_3: 64\n",
      "kernel_3: 3\n",
      "dropout: 0.5\n",
      "dense: 128\n",
      "shuffle: True\n",
      "Score: 0.9487000107765198\n",
      "\n",
      "Trial 1 summary\n",
      "Hyperparameters:\n",
      "filters: 32\n",
      "kernel: 7\n",
      "padding: valid\n",
      "filters_2: 48\n",
      "kernel_2: 3\n",
      "filters_3: 64\n",
      "kernel_3: 5\n",
      "dropout: 0.4\n",
      "dense: 64\n",
      "shuffle: False\n",
      "Score: 0.9354000091552734\n"
     ]
    }
   ],
   "source": [
    "model = Model()\n",
    "tuner = RandomSearch(model, objective=\"val_accuracy\", max_trials=5)\n",
    "tuner.search(x_train, y_train, epochs=5, validation_data=(x_test, y_test))\n",
    "best_model = tuner.get_best_models()[0]\n",
    "best_model.build(input_shape=(None, 28, 28))\n",
    "best_model.summary()\n",
    "tuner.results_summary()\n",
    "rmtree(\"untitled_project\")"
   ]
  },
  {
   "cell_type": "code",
   "execution_count": 21,
   "metadata": {},
   "outputs": [
    {
     "name": "stdout",
     "output_type": "stream",
     "text": [
      "313/313 - 3s - loss: 0.1528 - accuracy: 0.9661 - 3s/epoch - 9ms/step\n"
     ]
    }
   ],
   "source": [
    "test_loss, test_acc = best_model.evaluate(x_test, y_test, verbose=2)"
   ]
  },
  {
   "cell_type": "markdown",
   "metadata": {},
   "source": [
    "# Conclusiones generales\n",
    "\n",
    "La red implementada logra superar ligeramente la precisión de AlexNet, con un tiempo de entrenamiento mucho menor, a continuación se presentan unas conclusiones de lo observado durante el proyecto:\n",
    "\n",
    "1. Por lo general, se acostumbra que la capa convolucional de input tenga una cantidad baja de filtros y un kernel más grande, y que las capas convolucionales posteriores tengan más filtros y un kernel más pequeño, esto se debe a que la primera capa convolucional se encarga de extraer características generales de la imagen, mientras que las siguientes capas se encargan de extraer características cada vez más específicas.\n",
    "\n",
    "2. Anidar capas convolucionales sin capas de pooling entre ellas, puede aumentar la precisión del modelo al recoger más detalles de la imagen, pero aumenta el tiempo de entrenamiento, y puede generar overfitting.\n",
    "\n",
    "3. El uso de capas de dropout luego de las capas convolucionales, puede remover detalles innecesarios de las imágenes, en este caso aumenta ligeramente la precisión, además puede prevenir el overfitting, pero hay riesgo de perder detalles importantes y en consecuencia bajar la precisión.\n",
    "\n",
    "4. El average pooling guarda información más general de las imágenes, como patrones y relaciones de espacio, mientras que el max pooling guarda información más específica, como bordes u objetos. En las arquitecturas mas modernas es predominante el max pooling, sin embargo algunas combinan ambos tipos de pooling. En este caso se obtuvo una mayor precisión combinando ambos tipos de pooling o usando 2 tipos iguales de pooling."
   ]
  }
 ],
 "metadata": {
  "kernelspec": {
   "display_name": "Python 3",
   "language": "python",
   "name": "python3"
  },
  "language_info": {
   "codemirror_mode": {
    "name": "ipython",
    "version": 3
   },
   "file_extension": ".py",
   "mimetype": "text/x-python",
   "name": "python",
   "nbconvert_exporter": "python",
   "pygments_lexer": "ipython3",
   "version": "3.11.4"
  }
 },
 "nbformat": 4,
 "nbformat_minor": 2
}
